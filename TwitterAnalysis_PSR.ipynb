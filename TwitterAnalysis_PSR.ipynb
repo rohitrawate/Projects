{
 "cells": [
  {
   "cell_type": "code",
   "execution_count": 362,
   "id": "c3359650",
   "metadata": {},
   "outputs": [],
   "source": [
    "#  Author = Rohit Rawate\n",
    "#  This is twitter Sentiment Analysis Project Where I have used twitter API to fetch the tweets\n",
    "# Used In-Built Libraries to Analyse The Tweets "
   ]
  },
  {
   "cell_type": "markdown",
   "id": "22395dc1",
   "metadata": {},
   "source": [
    "### Importing Libraries"
   ]
  },
  {
   "cell_type": "code",
   "execution_count": 363,
   "id": "0fb0444b",
   "metadata": {},
   "outputs": [],
   "source": [
    "import pandas as pd\n",
    "import numpy as np\n",
    "import tweepy                                # Python library for accessing the Twitter API.\n",
    "from textblob import TextBlob                # For Sentiment Classification\n",
    "import re                                    # Python Package of Regular Expression to match similar patterns\n",
    "import os\n",
    "import matplotlib.pyplot as plt              # For data Visualisation"
   ]
  },
  {
   "cell_type": "code",
   "execution_count": 364,
   "id": "3e4e7bde",
   "metadata": {},
   "outputs": [
    {
     "name": "stdout",
     "output_type": "stream",
     "text": [
      "DFtocsv.png\r\n",
      "Image_To_Text Project.ipynb\r\n",
      "LGM TASK imagetosketch.ipynb\r\n",
      "ME.jpeg\r\n",
      "ML_Start.ipynb\r\n",
      "OCR_CarNumPlate.png\r\n",
      "OCR_CarPlate.png\r\n",
      "OCR_Input.png\r\n",
      "OCR_clrNum.png\r\n",
      "PSR_Twitter.ipynb\r\n",
      "PSR_TwitterAnalysis.ipynb\r\n",
      "PSR_tweetAnalysis.pdf\r\n",
      "Psr_twitterCode.png\r\n",
      "Rohit_LL.png\r\n",
      "Sentiment_Analysispsr.png\r\n",
      "Starting Pandas.ipynb\r\n",
      "Username.csv\r\n",
      "Welcome_Rohit.ipynb\r\n",
      "YT_Downloader.ipynb\r\n",
      "bareme.jpeg\r\n",
      "dil chahta hai (DJ NYK Remix)  [Bollywood LoFi Chill Trap Beats].mp4\r\n",
      "fotor.jpg\r\n",
      "fotor1.jpg\r\n",
      "me_Sketch.jpeg\r\n",
      "pandas.png\r\n",
      "py_Sketch.ipynb\r\n",
      "test.csv\r\n"
     ]
    }
   ],
   "source": [
    "\n",
    "ls"
   ]
  },
  {
   "cell_type": "code",
   "execution_count": 365,
   "id": "d926a5aa",
   "metadata": {},
   "outputs": [],
   "source": [
    "config = pd.read_csv(\"/Users/prawate/Desktop/JupyterNotebook/BE_Project/config.csv\")"
   ]
  },
  {
   "cell_type": "code",
   "execution_count": 366,
   "id": "38501691",
   "metadata": {},
   "outputs": [],
   "source": [
    "# config"
   ]
  },
  {
   "cell_type": "code",
   "execution_count": 367,
   "id": "2fa7801e",
   "metadata": {},
   "outputs": [],
   "source": [
    "twitterApiKey = config[\"twitterApikey\"][0] \n",
    "twitterApiSecret = config[\"twitterApiSecret\"][0] \n",
    "twitterApiAccesToken = config[\"twitterApiAccesToken\"][0] \n",
    "twitterApiAccessTokenSecret = config[\"twitterApiAccessTokenSecret\"][0] "
   ]
  },
  {
   "cell_type": "code",
   "execution_count": 368,
   "id": "42f2bf91",
   "metadata": {},
   "outputs": [],
   "source": [
    "auth = tweepy.OAuthHandler(twitterApiKey, twitterApiSecret)\n",
    "auth.set_access_token(twitterApiAccesToken, twitterApiAccessTokenSecret)\n",
    "twitterApi = tweepy.API(auth,wait_on_rate_limit=True)"
   ]
  },
  {
   "cell_type": "markdown",
   "id": "6c2642ea",
   "metadata": {},
   "source": [
    "##  Accessing the Twitter User  'Pramod Rawate'\n"
   ]
  },
  {
   "cell_type": "code",
   "execution_count": 369,
   "id": "4100f02f",
   "metadata": {},
   "outputs": [],
   "source": [
    "Pramod =\"PramodRawate\"\n"
   ]
  },
  {
   "cell_type": "code",
   "execution_count": 370,
   "id": "714ee4b9",
   "metadata": {},
   "outputs": [],
   "source": [
    "tweets = tweepy.Cursor(twitterApi.user_timeline,\n",
    "                       screen_name= Pramod,\n",
    "                       count = None).items(10);"
   ]
  },
  {
   "cell_type": "code",
   "execution_count": 371,
   "id": "d364ff3d",
   "metadata": {},
   "outputs": [],
   "source": [
    "# pd.options.display.max_rows\n"
   ]
  },
  {
   "cell_type": "code",
   "execution_count": 372,
   "id": "5e064459",
   "metadata": {},
   "outputs": [],
   "source": [
    "df = pd.DataFrame({'Tweets':[tweet.text for tweet in tweets]}) #,columns=['Tweets']"
   ]
  },
  {
   "cell_type": "markdown",
   "id": "095a8053",
   "metadata": {},
   "source": [
    "### All Tweets "
   ]
  },
  {
   "cell_type": "code",
   "execution_count": 373,
   "id": "ff40e7e3",
   "metadata": {},
   "outputs": [],
   "source": [
    "all_tweets = [tweet.text for tweet in tweets]"
   ]
  },
  {
   "cell_type": "code",
   "execution_count": 374,
   "id": "8f8fcf7a",
   "metadata": {},
   "outputs": [
    {
     "data": {
      "text/plain": [
       "list"
      ]
     },
     "execution_count": 374,
     "metadata": {},
     "output_type": "execute_result"
    }
   ],
   "source": [
    "type(all_tweets)      #List\n",
    "# all_tweets   "
   ]
  },
  {
   "cell_type": "code",
   "execution_count": 375,
   "id": "8a6d1fe3",
   "metadata": {},
   "outputs": [],
   "source": [
    "pd.set_option(\"display.max_rows\", None, \"display.max_columns\", None)"
   ]
  },
  {
   "cell_type": "code",
   "execution_count": 376,
   "id": "35f1abfe",
   "metadata": {},
   "outputs": [
    {
     "data": {
      "text/html": [
       "<div>\n",
       "<style scoped>\n",
       "    .dataframe tbody tr th:only-of-type {\n",
       "        vertical-align: middle;\n",
       "    }\n",
       "\n",
       "    .dataframe tbody tr th {\n",
       "        vertical-align: top;\n",
       "    }\n",
       "\n",
       "    .dataframe thead th {\n",
       "        text-align: right;\n",
       "    }\n",
       "</style>\n",
       "<table border=\"1\" class=\"dataframe\">\n",
       "  <thead>\n",
       "    <tr style=\"text-align: right;\">\n",
       "      <th></th>\n",
       "      <th>Tweets</th>\n",
       "    </tr>\n",
       "  </thead>\n",
       "  <tbody>\n",
       "    <tr>\n",
       "      <th>0</th>\n",
       "      <td>RT @meeruansari: #BanIPL\\nSo sad to see kohli ...</td>\n",
       "    </tr>\n",
       "    <tr>\n",
       "      <th>1</th>\n",
       "      <td>RT @MahuaMoitra: Stop lying Ajay Mishra! \\nHer...</td>\n",
       "    </tr>\n",
       "    <tr>\n",
       "      <th>2</th>\n",
       "      <td>Whatsapp goes down again.\\n#whatsapp #whatsapp...</td>\n",
       "    </tr>\n",
       "    <tr>\n",
       "      <th>3</th>\n",
       "      <td>@shraddhamrkt How did you come to know that da...</td>\n",
       "    </tr>\n",
       "    <tr>\n",
       "      <th>4</th>\n",
       "      <td>Me to Tatva Chitna IPO:\\n𝑨𝒂 𝒃𝒉𝒊 𝒋𝒂 𝒔𝒂𝒏𝒂𝒎\\n𝒀𝒖𝒏 ...</td>\n",
       "    </tr>\n",
       "    <tr>\n",
       "      <th>5</th>\n",
       "      <td>@IqooInd @IqooInd If possible can you bring ba...</td>\n",
       "    </tr>\n",
       "  </tbody>\n",
       "</table>\n",
       "</div>"
      ],
      "text/plain": [
       "                                              Tweets\n",
       "0  RT @meeruansari: #BanIPL\\nSo sad to see kohli ...\n",
       "1  RT @MahuaMoitra: Stop lying Ajay Mishra! \\nHer...\n",
       "2  Whatsapp goes down again.\\n#whatsapp #whatsapp...\n",
       "3  @shraddhamrkt How did you come to know that da...\n",
       "4  Me to Tatva Chitna IPO:\\n𝑨𝒂 𝒃𝒉𝒊 𝒋𝒂 𝒔𝒂𝒏𝒂𝒎\\n𝒀𝒖𝒏 ...\n",
       "5  @IqooInd @IqooInd If possible can you bring ba..."
      ]
     },
     "execution_count": 376,
     "metadata": {},
     "output_type": "execute_result"
    }
   ],
   "source": [
    "df"
   ]
  },
  {
   "cell_type": "code",
   "execution_count": 377,
   "id": "4eec862a",
   "metadata": {},
   "outputs": [
    {
     "data": {
      "text/html": [
       "<div>\n",
       "<style scoped>\n",
       "    .dataframe tbody tr th:only-of-type {\n",
       "        vertical-align: middle;\n",
       "    }\n",
       "\n",
       "    .dataframe tbody tr th {\n",
       "        vertical-align: top;\n",
       "    }\n",
       "\n",
       "    .dataframe thead th {\n",
       "        text-align: right;\n",
       "    }\n",
       "</style>\n",
       "<table border=\"1\" class=\"dataframe\">\n",
       "  <thead>\n",
       "    <tr style=\"text-align: right;\">\n",
       "      <th></th>\n",
       "      <th>Tweets</th>\n",
       "    </tr>\n",
       "  </thead>\n",
       "  <tbody>\n",
       "    <tr>\n",
       "      <th>0</th>\n",
       "      <td>RT @meeruansari: #BanIPL\\nSo sad to see kohli ...</td>\n",
       "    </tr>\n",
       "    <tr>\n",
       "      <th>1</th>\n",
       "      <td>RT @MahuaMoitra: Stop lying Ajay Mishra! \\nHer...</td>\n",
       "    </tr>\n",
       "    <tr>\n",
       "      <th>2</th>\n",
       "      <td>Whatsapp goes down again.\\n#whatsapp #whatsapp...</td>\n",
       "    </tr>\n",
       "    <tr>\n",
       "      <th>3</th>\n",
       "      <td>@shraddhamrkt How did you come to know that da...</td>\n",
       "    </tr>\n",
       "    <tr>\n",
       "      <th>4</th>\n",
       "      <td>Me to Tatva Chitna IPO:\\n𝑨𝒂 𝒃𝒉𝒊 𝒋𝒂 𝒔𝒂𝒏𝒂𝒎\\n𝒀𝒖𝒏 ...</td>\n",
       "    </tr>\n",
       "    <tr>\n",
       "      <th>5</th>\n",
       "      <td>@IqooInd @IqooInd If possible can you bring ba...</td>\n",
       "    </tr>\n",
       "  </tbody>\n",
       "</table>\n",
       "</div>"
      ],
      "text/plain": [
       "                                              Tweets\n",
       "0  RT @meeruansari: #BanIPL\\nSo sad to see kohli ...\n",
       "1  RT @MahuaMoitra: Stop lying Ajay Mishra! \\nHer...\n",
       "2  Whatsapp goes down again.\\n#whatsapp #whatsapp...\n",
       "3  @shraddhamrkt How did you come to know that da...\n",
       "4  Me to Tatva Chitna IPO:\\n𝑨𝒂 𝒃𝒉𝒊 𝒋𝒂 𝒔𝒂𝒏𝒂𝒎\\n𝒀𝒖𝒏 ...\n",
       "5  @IqooInd @IqooInd If possible can you bring ba..."
      ]
     },
     "execution_count": 377,
     "metadata": {},
     "output_type": "execute_result"
    }
   ],
   "source": [
    "df.head(10)"
   ]
  },
  {
   "cell_type": "code",
   "execution_count": 378,
   "id": "a18907fc",
   "metadata": {},
   "outputs": [],
   "source": [
    "# pd.options.display.max_rows"
   ]
  },
  {
   "cell_type": "code",
   "execution_count": 309,
   "id": "e21ebef4",
   "metadata": {},
   "outputs": [],
   "source": [
    "# df1 = df.rename(columns={0:\"Tweets\"}, inplace= True) "
   ]
  },
  {
   "cell_type": "markdown",
   "id": "f9db8028",
   "metadata": {},
   "source": [
    "## The Tweets column is of type Series ,So converting Series type to String "
   ]
  },
  {
   "cell_type": "code",
   "execution_count": 384,
   "id": "852aa09e",
   "metadata": {},
   "outputs": [],
   "source": [
    "String_data = df.to_string()"
   ]
  },
  {
   "cell_type": "code",
   "execution_count": 413,
   "id": "54e3e649",
   "metadata": {},
   "outputs": [
    {
     "data": {
      "text/plain": [
       "str"
      ]
     },
     "execution_count": 413,
     "metadata": {},
     "output_type": "execute_result"
    }
   ],
   "source": [
    "type(String_data)"
   ]
  },
  {
   "cell_type": "code",
   "execution_count": 385,
   "id": "59d79e0d",
   "metadata": {},
   "outputs": [
    {
     "data": {
      "text/plain": [
       "\"                                                                                                                                          Tweets\\n0                                  RT @meeruansari: #BanIPL\\\\nSo sad to see kohli like that.\\\\n#IndiaVsNewZealand \\\\n#India https://t.co/GHGTjZ6BOt\\n1  RT @MahuaMoitra: Stop lying Ajay Mishra! \\\\nHere is uncut video. Nobody hit your cars. There was no accident. The convoy just ploughed throug…\\n2                                                                                         Whatsapp goes down again.\\\\n#whatsapp #whatsappGoesDown\\n3                       @shraddhamrkt How did you come to know that date ks 29th July?\\\\nAllotment was supposed to be done on 26th July. 29th ???\\n4                                                                 Me to Tatva Chitna IPO:\\\\n𝑨𝒂 𝒃𝒉𝒊 𝒋𝒂 𝒔𝒂𝒏𝒂𝒎\\\\n𝒀𝒖𝒏 𝒏𝒂 𝒌𝒂𝒓 𝒔𝒊𝒕𝒂𝒎\\\\n\\\\n#TatvaChintanIPO\\n5   @IqooInd @IqooInd If possible can you bring back the ICICI and 1K discount offer back. It's not possible but just t… https://t.co/SWovttW7Bw\""
      ]
     },
     "execution_count": 385,
     "metadata": {},
     "output_type": "execute_result"
    }
   ],
   "source": [
    "String_data"
   ]
  },
  {
   "cell_type": "code",
   "execution_count": 310,
   "id": "457b71ce",
   "metadata": {},
   "outputs": [],
   "source": [
    "str_Tweets= df['Tweets'].astype(str)         #DataFrame.astype(dtype, copy=True, errors=’raise’)"
   ]
  },
  {
   "cell_type": "code",
   "execution_count": 335,
   "id": "76d8f1f7",
   "metadata": {},
   "outputs": [
    {
     "data": {
      "text/plain": [
       "0    RT @meeruansari: #BanIPL\\nSo sad to see kohli ...\n",
       "1    RT @MahuaMoitra: Stop lying Ajay Mishra! \\nHer...\n",
       "2    Whatsapp goes down again.\\n#whatsapp #whatsapp...\n",
       "3    @shraddhamrkt How did you come to know that da...\n",
       "4    Me to Tatva Chitna IPO:\\n𝑨𝒂 𝒃𝒉𝒊 𝒋𝒂 𝒔𝒂𝒏𝒂𝒎\\n𝒀𝒖𝒏 ...\n",
       "5    @IqooInd @IqooInd If possible can you bring ba...\n",
       "Name: Tweets, dtype: object"
      ]
     },
     "execution_count": 335,
     "metadata": {},
     "output_type": "execute_result"
    }
   ],
   "source": [
    "str_Tweets"
   ]
  },
  {
   "cell_type": "code",
   "execution_count": 336,
   "id": "b30ab9b4",
   "metadata": {},
   "outputs": [
    {
     "data": {
      "text/plain": [
       "pandas.core.series.Series"
      ]
     },
     "execution_count": 336,
     "metadata": {},
     "output_type": "execute_result"
    }
   ],
   "source": [
    "type(str_Tweets)"
   ]
  },
  {
   "cell_type": "markdown",
   "id": "dba7926f",
   "metadata": {},
   "source": [
    "## Droping the Tweetscleaned Column "
   ]
  },
  {
   "cell_type": "code",
   "execution_count": 313,
   "id": "3244b7c6",
   "metadata": {},
   "outputs": [],
   "source": [
    "# df.drop(['Tweetscleaned'],axis=1) \n",
    "# df.drop(['Processed_Tweet'],axis=1) \n",
    "# del df[\"Processed_Tweet\"]\n",
    "# del df['str_Tweets']\n",
    "# del df[\"Tweetscleaned\"]"
   ]
  },
  {
   "cell_type": "code",
   "execution_count": 314,
   "id": "c70d17fb",
   "metadata": {},
   "outputs": [
    {
     "data": {
      "text/html": [
       "<div>\n",
       "<style scoped>\n",
       "    .dataframe tbody tr th:only-of-type {\n",
       "        vertical-align: middle;\n",
       "    }\n",
       "\n",
       "    .dataframe tbody tr th {\n",
       "        vertical-align: top;\n",
       "    }\n",
       "\n",
       "    .dataframe thead th {\n",
       "        text-align: right;\n",
       "    }\n",
       "</style>\n",
       "<table border=\"1\" class=\"dataframe\">\n",
       "  <thead>\n",
       "    <tr style=\"text-align: right;\">\n",
       "      <th></th>\n",
       "      <th>Tweets</th>\n",
       "    </tr>\n",
       "  </thead>\n",
       "  <tbody>\n",
       "    <tr>\n",
       "      <th>0</th>\n",
       "      <td>RT @meeruansari: #BanIPL\\nSo sad to see kohli ...</td>\n",
       "    </tr>\n",
       "    <tr>\n",
       "      <th>1</th>\n",
       "      <td>RT @MahuaMoitra: Stop lying Ajay Mishra! \\nHer...</td>\n",
       "    </tr>\n",
       "    <tr>\n",
       "      <th>2</th>\n",
       "      <td>Whatsapp goes down again.\\n#whatsapp #whatsapp...</td>\n",
       "    </tr>\n",
       "    <tr>\n",
       "      <th>3</th>\n",
       "      <td>@shraddhamrkt How did you come to know that da...</td>\n",
       "    </tr>\n",
       "    <tr>\n",
       "      <th>4</th>\n",
       "      <td>Me to Tatva Chitna IPO:\\n𝑨𝒂 𝒃𝒉𝒊 𝒋𝒂 𝒔𝒂𝒏𝒂𝒎\\n𝒀𝒖𝒏 ...</td>\n",
       "    </tr>\n",
       "    <tr>\n",
       "      <th>5</th>\n",
       "      <td>@IqooInd @IqooInd If possible can you bring ba...</td>\n",
       "    </tr>\n",
       "  </tbody>\n",
       "</table>\n",
       "</div>"
      ],
      "text/plain": [
       "                                              Tweets\n",
       "0  RT @meeruansari: #BanIPL\\nSo sad to see kohli ...\n",
       "1  RT @MahuaMoitra: Stop lying Ajay Mishra! \\nHer...\n",
       "2  Whatsapp goes down again.\\n#whatsapp #whatsapp...\n",
       "3  @shraddhamrkt How did you come to know that da...\n",
       "4  Me to Tatva Chitna IPO:\\n𝑨𝒂 𝒃𝒉𝒊 𝒋𝒂 𝒔𝒂𝒏𝒂𝒎\\n𝒀𝒖𝒏 ...\n",
       "5  @IqooInd @IqooInd If possible can you bring ba..."
      ]
     },
     "execution_count": 314,
     "metadata": {},
     "output_type": "execute_result"
    }
   ],
   "source": [
    "df"
   ]
  },
  {
   "cell_type": "code",
   "execution_count": 315,
   "id": "a5ed2585",
   "metadata": {},
   "outputs": [
    {
     "data": {
      "text/plain": [
       "Tweets    object\n",
       "dtype: object"
      ]
     },
     "execution_count": 315,
     "metadata": {},
     "output_type": "execute_result"
    }
   ],
   "source": [
    "df.dtypes"
   ]
  },
  {
   "cell_type": "code",
   "execution_count": 323,
   "id": "7f2fc0b3",
   "metadata": {},
   "outputs": [
    {
     "data": {
      "text/plain": [
       "'RT @meeruansari: #BanIPL\\nSo sad to see kohli like that.\\n#IndiaVsNewZealand \\n#India https://t.co/GHGTjZ6BOt'"
      ]
     },
     "execution_count": 323,
     "metadata": {},
     "output_type": "execute_result"
    }
   ],
   "source": [
    "str_Tweets[0]"
   ]
  },
  {
   "cell_type": "markdown",
   "id": "f4d7ec8a",
   "metadata": {},
   "source": [
    "## Pre Processing "
   ]
  },
  {
   "cell_type": "code",
   "execution_count": 317,
   "id": "80273477",
   "metadata": {},
   "outputs": [],
   "source": [
    "def cleanUp(text):\n",
    "#     fp = open(path, 'r+')\n",
    "#     text = path.read()\n",
    "#     text = re.sub('r,@[A-Za-z0-9_]',text,flags=0)\n",
    "    return \"\".join(re.sub('r,@[A-Za-z0-9_ ]',\" \",text).split())"
   ]
  },
  {
   "cell_type": "code",
   "execution_count": 338,
   "id": "19891bc7",
   "metadata": {},
   "outputs": [],
   "source": [
    "def remove_url(txt):\n",
    "    \n",
    "    return \" \".join(re.sub(\"([^0-9A-Za-z \\t])|(\\w+:\\/\\/\\S+)\", \"\", txt).split())"
   ]
  },
  {
   "cell_type": "code",
   "execution_count": 339,
   "id": "feb812a4",
   "metadata": {},
   "outputs": [],
   "source": [
    "all_tweets_no_urls = [remove_url(tweet) for tweet in str_Tweets]\n"
   ]
  },
  {
   "cell_type": "code",
   "execution_count": 341,
   "id": "7ee4c088",
   "metadata": {
    "scrolled": true
   },
   "outputs": [
    {
     "data": {
      "text/plain": [
       "['RT meeruansari BanIPLSo sad to see kohli like thatIndiaVsNewZealand India',\n",
       " 'RT MahuaMoitra Stop lying Ajay Mishra Here is uncut video Nobody hit your cars There was no accident The convoy just ploughed throug',\n",
       " 'Whatsapp goes down againwhatsapp whatsappGoesDown',\n",
       " 'shraddhamrkt How did you come to know that date ks 29th JulyAllotment was supposed to be done on 26th July 29th',\n",
       " 'Me to Tatva Chitna IPO TatvaChintanIPO',\n",
       " 'IqooInd IqooInd If possible can you bring back the ICICI and 1K discount offer back Its not possible but just t']"
      ]
     },
     "execution_count": 341,
     "metadata": {},
     "output_type": "execute_result"
    }
   ],
   "source": [
    "all_tweets_no_urls"
   ]
  },
  {
   "cell_type": "code",
   "execution_count": 395,
   "id": "81d85bdf",
   "metadata": {},
   "outputs": [],
   "source": [
    "# Tweetscleaned = [cleanUp(tweet) for tweet in str_Tweets]   # Just removes all the Spaces in the Text"
   ]
  },
  {
   "cell_type": "code",
   "execution_count": 397,
   "id": "1a0ea889",
   "metadata": {},
   "outputs": [],
   "source": [
    "# Tweetscleaned"
   ]
  },
  {
   "cell_type": "code",
   "execution_count": 391,
   "id": "630dbdf5",
   "metadata": {},
   "outputs": [],
   "source": [
    "# Tweetscleaned = cleanUp(String_data)\n",
    "# str_no_Urls =  remove_url( String_data)"
   ]
  },
  {
   "cell_type": "code",
   "execution_count": 398,
   "id": "19f266cd",
   "metadata": {},
   "outputs": [],
   "source": [
    "# Tweetscleaned\n",
    "# str_no_Urls"
   ]
  },
  {
   "cell_type": "code",
   "execution_count": null,
   "id": "1e36a6ef",
   "metadata": {},
   "outputs": [],
   "source": []
  },
  {
   "cell_type": "markdown",
   "id": "684a4050",
   "metadata": {},
   "source": [
    "## Analysis of Tweets "
   ]
  },
  {
   "cell_type": "code",
   "execution_count": 399,
   "id": "d6e7eff8",
   "metadata": {},
   "outputs": [],
   "source": [
    "def getTextSubjectivity(text):                        #Subjectivity[0,1]\n",
    "    return TextBlob(text).sentiment.subjectivity"
   ]
  },
  {
   "cell_type": "code",
   "execution_count": 400,
   "id": "51136276",
   "metadata": {},
   "outputs": [],
   "source": [
    "df['Subjectivity'] = df['Tweets'].apply(getTextSubjectivity)"
   ]
  },
  {
   "cell_type": "code",
   "execution_count": 401,
   "id": "a6d0f86c",
   "metadata": {},
   "outputs": [
    {
     "data": {
      "text/html": [
       "<div>\n",
       "<style scoped>\n",
       "    .dataframe tbody tr th:only-of-type {\n",
       "        vertical-align: middle;\n",
       "    }\n",
       "\n",
       "    .dataframe tbody tr th {\n",
       "        vertical-align: top;\n",
       "    }\n",
       "\n",
       "    .dataframe thead th {\n",
       "        text-align: right;\n",
       "    }\n",
       "</style>\n",
       "<table border=\"1\" class=\"dataframe\">\n",
       "  <thead>\n",
       "    <tr style=\"text-align: right;\">\n",
       "      <th></th>\n",
       "      <th>Tweets</th>\n",
       "      <th>Subjectivity</th>\n",
       "    </tr>\n",
       "  </thead>\n",
       "  <tbody>\n",
       "    <tr>\n",
       "      <th>0</th>\n",
       "      <td>RT @meeruansari: #BanIPL\\nSo sad to see kohli ...</td>\n",
       "      <td>1.000000</td>\n",
       "    </tr>\n",
       "    <tr>\n",
       "      <th>1</th>\n",
       "      <td>RT @MahuaMoitra: Stop lying Ajay Mishra! \\nHer...</td>\n",
       "      <td>0.800000</td>\n",
       "    </tr>\n",
       "    <tr>\n",
       "      <th>2</th>\n",
       "      <td>Whatsapp goes down again.\\n#whatsapp #whatsapp...</td>\n",
       "      <td>0.288889</td>\n",
       "    </tr>\n",
       "    <tr>\n",
       "      <th>3</th>\n",
       "      <td>@shraddhamrkt How did you come to know that da...</td>\n",
       "      <td>0.000000</td>\n",
       "    </tr>\n",
       "    <tr>\n",
       "      <th>4</th>\n",
       "      <td>Me to Tatva Chitna IPO:\\n𝑨𝒂 𝒃𝒉𝒊 𝒋𝒂 𝒔𝒂𝒏𝒂𝒎\\n𝒀𝒖𝒏 ...</td>\n",
       "      <td>0.000000</td>\n",
       "    </tr>\n",
       "    <tr>\n",
       "      <th>5</th>\n",
       "      <td>@IqooInd @IqooInd If possible can you bring ba...</td>\n",
       "      <td>0.500000</td>\n",
       "    </tr>\n",
       "  </tbody>\n",
       "</table>\n",
       "</div>"
      ],
      "text/plain": [
       "                                              Tweets  Subjectivity\n",
       "0  RT @meeruansari: #BanIPL\\nSo sad to see kohli ...      1.000000\n",
       "1  RT @MahuaMoitra: Stop lying Ajay Mishra! \\nHer...      0.800000\n",
       "2  Whatsapp goes down again.\\n#whatsapp #whatsapp...      0.288889\n",
       "3  @shraddhamrkt How did you come to know that da...      0.000000\n",
       "4  Me to Tatva Chitna IPO:\\n𝑨𝒂 𝒃𝒉𝒊 𝒋𝒂 𝒔𝒂𝒏𝒂𝒎\\n𝒀𝒖𝒏 ...      0.000000\n",
       "5  @IqooInd @IqooInd If possible can you bring ba...      0.500000"
      ]
     },
     "execution_count": 401,
     "metadata": {},
     "output_type": "execute_result"
    }
   ],
   "source": [
    "df"
   ]
  },
  {
   "cell_type": "code",
   "execution_count": 402,
   "id": "3ca8547c",
   "metadata": {},
   "outputs": [],
   "source": [
    "def getTextPolarity(txt):\n",
    "    return TextBlob(txt).sentiment.polarity "
   ]
  },
  {
   "cell_type": "code",
   "execution_count": 403,
   "id": "35625f06",
   "metadata": {},
   "outputs": [],
   "source": [
    "df['Polarity'] = df['Tweets'].apply(getTextPolarity)"
   ]
  },
  {
   "cell_type": "code",
   "execution_count": 404,
   "id": "2c63d19a",
   "metadata": {},
   "outputs": [
    {
     "data": {
      "text/html": [
       "<div>\n",
       "<style scoped>\n",
       "    .dataframe tbody tr th:only-of-type {\n",
       "        vertical-align: middle;\n",
       "    }\n",
       "\n",
       "    .dataframe tbody tr th {\n",
       "        vertical-align: top;\n",
       "    }\n",
       "\n",
       "    .dataframe thead th {\n",
       "        text-align: right;\n",
       "    }\n",
       "</style>\n",
       "<table border=\"1\" class=\"dataframe\">\n",
       "  <thead>\n",
       "    <tr style=\"text-align: right;\">\n",
       "      <th></th>\n",
       "      <th>Tweets</th>\n",
       "      <th>Subjectivity</th>\n",
       "      <th>Polarity</th>\n",
       "    </tr>\n",
       "  </thead>\n",
       "  <tbody>\n",
       "    <tr>\n",
       "      <th>0</th>\n",
       "      <td>RT @meeruansari: #BanIPL\\nSo sad to see kohli ...</td>\n",
       "      <td>1.000000</td>\n",
       "      <td>-0.500000</td>\n",
       "    </tr>\n",
       "    <tr>\n",
       "      <th>1</th>\n",
       "      <td>RT @MahuaMoitra: Stop lying Ajay Mishra! \\nHer...</td>\n",
       "      <td>0.800000</td>\n",
       "      <td>-0.500000</td>\n",
       "    </tr>\n",
       "    <tr>\n",
       "      <th>2</th>\n",
       "      <td>Whatsapp goes down again.\\n#whatsapp #whatsapp...</td>\n",
       "      <td>0.288889</td>\n",
       "      <td>-0.155556</td>\n",
       "    </tr>\n",
       "    <tr>\n",
       "      <th>3</th>\n",
       "      <td>@shraddhamrkt How did you come to know that da...</td>\n",
       "      <td>0.000000</td>\n",
       "      <td>0.000000</td>\n",
       "    </tr>\n",
       "    <tr>\n",
       "      <th>4</th>\n",
       "      <td>Me to Tatva Chitna IPO:\\n𝑨𝒂 𝒃𝒉𝒊 𝒋𝒂 𝒔𝒂𝒏𝒂𝒎\\n𝒀𝒖𝒏 ...</td>\n",
       "      <td>0.000000</td>\n",
       "      <td>0.000000</td>\n",
       "    </tr>\n",
       "    <tr>\n",
       "      <th>5</th>\n",
       "      <td>@IqooInd @IqooInd If possible can you bring ba...</td>\n",
       "      <td>0.500000</td>\n",
       "      <td>0.000000</td>\n",
       "    </tr>\n",
       "  </tbody>\n",
       "</table>\n",
       "</div>"
      ],
      "text/plain": [
       "                                              Tweets  Subjectivity  Polarity\n",
       "0  RT @meeruansari: #BanIPL\\nSo sad to see kohli ...      1.000000 -0.500000\n",
       "1  RT @MahuaMoitra: Stop lying Ajay Mishra! \\nHer...      0.800000 -0.500000\n",
       "2  Whatsapp goes down again.\\n#whatsapp #whatsapp...      0.288889 -0.155556\n",
       "3  @shraddhamrkt How did you come to know that da...      0.000000  0.000000\n",
       "4  Me to Tatva Chitna IPO:\\n𝑨𝒂 𝒃𝒉𝒊 𝒋𝒂 𝒔𝒂𝒏𝒂𝒎\\n𝒀𝒖𝒏 ...      0.000000  0.000000\n",
       "5  @IqooInd @IqooInd If possible can you bring ba...      0.500000  0.000000"
      ]
     },
     "execution_count": 404,
     "metadata": {},
     "output_type": "execute_result"
    }
   ],
   "source": [
    "df"
   ]
  },
  {
   "cell_type": "code",
   "execution_count": 405,
   "id": "7bc0a32f",
   "metadata": {},
   "outputs": [],
   "source": [
    "def getTextAnalysis(a):\n",
    "    if a<0:\n",
    "        return \"Negative\"\n",
    "    elif a==0:\n",
    "        return \"Neutral\"\n",
    "    else:\n",
    "        return \"Positive\"\n",
    "    "
   ]
  },
  {
   "cell_type": "code",
   "execution_count": 406,
   "id": "2257c57d",
   "metadata": {},
   "outputs": [],
   "source": [
    "df[\"Score\"]= df[\"Polarity\"].apply(getTextAnalysis)"
   ]
  },
  {
   "cell_type": "code",
   "execution_count": 407,
   "id": "8506c27f",
   "metadata": {},
   "outputs": [
    {
     "data": {
      "text/html": [
       "<div>\n",
       "<style scoped>\n",
       "    .dataframe tbody tr th:only-of-type {\n",
       "        vertical-align: middle;\n",
       "    }\n",
       "\n",
       "    .dataframe tbody tr th {\n",
       "        vertical-align: top;\n",
       "    }\n",
       "\n",
       "    .dataframe thead th {\n",
       "        text-align: right;\n",
       "    }\n",
       "</style>\n",
       "<table border=\"1\" class=\"dataframe\">\n",
       "  <thead>\n",
       "    <tr style=\"text-align: right;\">\n",
       "      <th></th>\n",
       "      <th>Tweets</th>\n",
       "      <th>Subjectivity</th>\n",
       "      <th>Polarity</th>\n",
       "      <th>Score</th>\n",
       "    </tr>\n",
       "  </thead>\n",
       "  <tbody>\n",
       "    <tr>\n",
       "      <th>0</th>\n",
       "      <td>RT @meeruansari: #BanIPL\\nSo sad to see kohli ...</td>\n",
       "      <td>1.000000</td>\n",
       "      <td>-0.500000</td>\n",
       "      <td>Negative</td>\n",
       "    </tr>\n",
       "    <tr>\n",
       "      <th>1</th>\n",
       "      <td>RT @MahuaMoitra: Stop lying Ajay Mishra! \\nHer...</td>\n",
       "      <td>0.800000</td>\n",
       "      <td>-0.500000</td>\n",
       "      <td>Negative</td>\n",
       "    </tr>\n",
       "    <tr>\n",
       "      <th>2</th>\n",
       "      <td>Whatsapp goes down again.\\n#whatsapp #whatsapp...</td>\n",
       "      <td>0.288889</td>\n",
       "      <td>-0.155556</td>\n",
       "      <td>Negative</td>\n",
       "    </tr>\n",
       "    <tr>\n",
       "      <th>3</th>\n",
       "      <td>@shraddhamrkt How did you come to know that da...</td>\n",
       "      <td>0.000000</td>\n",
       "      <td>0.000000</td>\n",
       "      <td>Neutral</td>\n",
       "    </tr>\n",
       "    <tr>\n",
       "      <th>4</th>\n",
       "      <td>Me to Tatva Chitna IPO:\\n𝑨𝒂 𝒃𝒉𝒊 𝒋𝒂 𝒔𝒂𝒏𝒂𝒎\\n𝒀𝒖𝒏 ...</td>\n",
       "      <td>0.000000</td>\n",
       "      <td>0.000000</td>\n",
       "      <td>Neutral</td>\n",
       "    </tr>\n",
       "    <tr>\n",
       "      <th>5</th>\n",
       "      <td>@IqooInd @IqooInd If possible can you bring ba...</td>\n",
       "      <td>0.500000</td>\n",
       "      <td>0.000000</td>\n",
       "      <td>Neutral</td>\n",
       "    </tr>\n",
       "  </tbody>\n",
       "</table>\n",
       "</div>"
      ],
      "text/plain": [
       "                                              Tweets  Subjectivity  Polarity  \\\n",
       "0  RT @meeruansari: #BanIPL\\nSo sad to see kohli ...      1.000000 -0.500000   \n",
       "1  RT @MahuaMoitra: Stop lying Ajay Mishra! \\nHer...      0.800000 -0.500000   \n",
       "2  Whatsapp goes down again.\\n#whatsapp #whatsapp...      0.288889 -0.155556   \n",
       "3  @shraddhamrkt How did you come to know that da...      0.000000  0.000000   \n",
       "4  Me to Tatva Chitna IPO:\\n𝑨𝒂 𝒃𝒉𝒊 𝒋𝒂 𝒔𝒂𝒏𝒂𝒎\\n𝒀𝒖𝒏 ...      0.000000  0.000000   \n",
       "5  @IqooInd @IqooInd If possible can you bring ba...      0.500000  0.000000   \n",
       "\n",
       "      Score  \n",
       "0  Negative  \n",
       "1  Negative  \n",
       "2  Negative  \n",
       "3   Neutral  \n",
       "4   Neutral  \n",
       "5   Neutral  "
      ]
     },
     "execution_count": 407,
     "metadata": {},
     "output_type": "execute_result"
    }
   ],
   "source": [
    "df"
   ]
  },
  {
   "cell_type": "code",
   "execution_count": 408,
   "id": "0879ba1e",
   "metadata": {},
   "outputs": [
    {
     "name": "stdout",
     "output_type": "stream",
     "text": [
      "0.0% of Positive Tweets\n"
     ]
    }
   ],
   "source": [
    "Positive= df[df[\"Score\"]==\"Positive\"]\n",
    "print(str(Positive.shape[0]/(df.shape[0])*100)+\"% of Positive Tweets\")\n",
    "posi=Positive.shape[0]/df.shape[0]*100"
   ]
  },
  {
   "cell_type": "code",
   "execution_count": 409,
   "id": "ff3aaf13",
   "metadata": {},
   "outputs": [
    {
     "name": "stdout",
     "output_type": "stream",
     "text": [
      "50.0% of Negative Tweets\n"
     ]
    }
   ],
   "source": [
    "Negative= df[df[\"Score\"]==\"Negative\"]\n",
    "print(str(Negative.shape[0]/(df.shape[0])*100)+\"% of Negative Tweets\")\n",
    "neg=Negative.shape[0]/df.shape[0]*100"
   ]
  },
  {
   "cell_type": "code",
   "execution_count": 410,
   "id": "7af5a63e",
   "metadata": {},
   "outputs": [
    {
     "name": "stdout",
     "output_type": "stream",
     "text": [
      "50.0% of Neutral Tweets\n"
     ]
    }
   ],
   "source": [
    "Neutral= df[df[\"Score\"]==\"Neutral\"]\n",
    "print(str(Neutral.shape[0]/(df.shape[0])*100)+\"% of Neutral Tweets\")\n",
    "neutral=Neutral.shape[0]/df.shape[0]*100"
   ]
  },
  {
   "cell_type": "code",
   "execution_count": 411,
   "id": "76d932d3",
   "metadata": {},
   "outputs": [
    {
     "name": "stdout",
     "output_type": "stream",
     "text": [
      "0.0 % Positive\n",
      " 50.0 % Negative\n",
      " 50.0 % Neutral\n"
     ]
    },
    {
     "data": {
      "image/png": "[encoded data removed]",
      "text/plain": [
       "<Figure size 432x288 with 1 Axes>"
      ]
     },
     "metadata": {},
     "output_type": "display_data"
    }
   ],
   "source": [
    "plt.pie([posi,neg,neutral])\n",
    "print(posi,\"% Positive\\n\",neg,\"% Negative\\n\",neutral,\"% Neutral\")"
   ]
  },
  {
   "cell_type": "code",
   "execution_count": 412,
   "id": "a456ad3a",
   "metadata": {},
   "outputs": [],
   "source": [
    "explode =[0,0.1,0]\n",
    "lables = 'Positive','Negative','Neutral'\n",
    "sizes = [posi,neg,neutral]\n",
    "colors = [\"green\",\"red\",\"orange\"]"
   ]
  },
  {
   "cell_type": "code",
   "execution_count": 357,
   "id": "771adc93",
   "metadata": {},
   "outputs": [
    {
     "data": {
      "image/png": "[encoded data removed]",
      "text/plain": [
       "<Figure size 432x288 with 1 Axes>"
      ]
     },
     "metadata": {},
     "output_type": "display_data"
    }
   ],
   "source": [
    "plt.pie(sizes,explode=explode,colors=colors,startangle=0,autopct=\"%1.1d%%\")\n",
    "plt.legend(lables,loc=(+0.0,-0))\n",
    "plt.axis('equal')\n",
    "plt.savefig(\"Sentiment_Analysispsr.png\")"
   ]
  },
  {
   "cell_type": "code",
   "execution_count": 358,
   "id": "932eb821",
   "metadata": {},
   "outputs": [
    {
     "data": {
      "text/plain": [
       "<BarContainer object of 2 artists>"
      ]
     },
     "execution_count": 358,
     "metadata": {},
     "output_type": "execute_result"
    },
    {
     "data": {
      "image/png": "[encoded data removed]",
      "text/plain": [
       "<Figure size 432x288 with 1 Axes>"
      ]
     },
     "metadata": {
      "needs_background": "light"
     },
     "output_type": "display_data"
    }
   ],
   "source": [
    "labels = df.groupby('Score').count().index.values     # Count of tweets in each category\n",
    "values = df.groupby('Score').size().values           #sizes refer to categories like Neutral Negative,+ve\n",
    "plt.bar(labels,values)"
   ]
  },
  {
   "cell_type": "code",
   "execution_count": 359,
   "id": "f8a31526",
   "metadata": {},
   "outputs": [
    {
     "data": {
      "image/png": "[encoded data removed]",
      "text/plain": [
       "<Figure size 432x288 with 1 Axes>"
      ]
     },
     "metadata": {
      "needs_background": "light"
     },
     "output_type": "display_data"
    }
   ],
   "source": [
    "for index,row in df.iterrows():\n",
    "    if row['Score'] == 'Positive':\n",
    "        plt.scatter(row['Polarity'],row['Subjectivity'],color='green')\n",
    "    elif row['Score'] == 'Negative':\n",
    "        plt.scatter(row['Polarity'],row['Subjectivity'],color='red')\n",
    "    elif row['Score'] == 'Neutral':\n",
    "        plt.scatter(row['Polarity'],row['Subjectivity'],color='blue')   \n",
    "        \n",
    "plt.title('Twitter Sentiment Analysis')\n",
    "plt.xlabel('Polarity')\n",
    "plt.ylabel('Subjectivity')\n",
    "plt.show()"
   ]
  },
  {
   "cell_type": "code",
   "execution_count": null,
   "id": "e9714a9b",
   "metadata": {},
   "outputs": [],
   "source": []
  },
  {
   "cell_type": "code",
   "execution_count": null,
   "id": "4ab890c6",
   "metadata": {},
   "outputs": [],
   "source": []
  }
 ],
 "metadata": {
  "kernelspec": {
   "display_name": "Python 3 (ipykernel)",
   "language": "python",
   "name": "python3"
  },
  "language_info": {
   "codemirror_mode": {
    "name": "ipython",
    "version": 3
   },
   "file_extension": ".py",
   "mimetype": "text/x-python",
   "name": "python",
   "nbconvert_exporter": "python",
   "pygments_lexer": "ipython3",
   "version": "3.9.2"
  }
 },
 "nbformat": 4,
 "nbformat_minor": 5
}
